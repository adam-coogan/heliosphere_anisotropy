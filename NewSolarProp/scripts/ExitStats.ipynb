{
 "cells": [
  {
   "cell_type": "code",
   "execution_count": null,
   "metadata": {
    "collapsed": true
   },
   "outputs": [],
   "source": [
    "import numpy as np\n",
    "import scipy\n",
    "import matplotlib.pyplot as plt\n",
    "import itertools"
   ]
  },
  {
   "cell_type": "code",
   "execution_count": null,
   "metadata": {
    "collapsed": false
   },
   "outputs": [],
   "source": [
    "# Load exit data\n",
    "runDir = '../rundata/hyades/'\n",
    "fName = 'alt0_short_0.1GeV'\n",
    "#fName = 'strauss_run5'\n",
    "#fName = 'straussunits_alt0_run5'\n",
    "#fName = 'strauss_alt0_runs'\n",
    "\n",
    "rawData = np.loadtxt(runDir + fName + '.csv', delimiter = ',')\n",
    "\n",
    "# Parse out the coordinates, energies and times\n",
    "exitData = {'r': rawData[:,0], 'th': 180.0 / np.pi * rawData[:,1], 'ph': 180.0 / np.pi * rawData[:,2], 'ek': rawData[:,3], 's': rawData[:,4] / (24.0 * 3600.0)}"
   ]
  },
  {
   "cell_type": "code",
   "execution_count": null,
   "metadata": {
    "collapsed": false
   },
   "outputs": [],
   "source": [
    "logScale = True\n",
    "\n",
    "# Create figure for plotting polar angle, energy and time at exit\n",
    "fig = plt.figure(figsize = (8, 3))\n",
    "thAx = fig.add_subplot(1, 3, 1)\n",
    "\"\"\"\n",
    "ekAx = fig.add_subplot(1, 3, 2)\n",
    "sAx = fig.add_subplot(1, 3, 3)\n",
    "\n",
    "# Fill the histograms\n",
    "thData = []\n",
    "sData = []\n",
    "ekData = []\n",
    "for i in range(len(exitData['th'])):\n",
    "    #if exitData['s'][i] < 100:\n",
    "    thData.append(exitData['th'][i])\n",
    "    sData.append(exitData['s'][i])\n",
    "    ekData.append(exitData['ek'][i])\n",
    "        \n",
    "thAx.hist(thData, bins = np.arange(0.0, 180.0 + 6.0, 6.0), log = logScale)\n",
    "ekAx.hist(ekData, bins = np.arange(0.0, 3.0 + 0.1, 0.1), log = logScale)\n",
    "sMin = 0.0\n",
    "sMax = 1000.0\n",
    "sWidth = 10.0\n",
    "sAx.hist(sData, bins = np.arange(sMin, sMax, sWidth))\n",
    "\n",
    "# Scale axes\n",
    "axScale = len(exitData['th']) / 10000.0\n",
    "\n",
    "# Set up axes and labels\n",
    "thAx.set_ylim(0.9, axScale*6000.0)\n",
    "ekAx.set_ylim(0.9, axScale*2500.0)\n",
    "sAx.set_ylim(0.9, axScale*650.0) #(700.0 if fName[1:3] == 'lt' else 500.0))\n",
    "thAx.set_ylabel('Number of occurences')\n",
    "ekAx.set_xlim(0.1, 3.0)\n",
    "ekAx.set_xlabel('Energy (GeV)')\n",
    "ekAx.set_title(r'Strauss $(Ac < 0$, $\\langle s \\rangle = 180.3(68) \\pm 0.2$ days)')\n",
    "thAx.set_xlim(0.0, 180.0)\n",
    "thAx.set_xlabel('Polar angle (degrees)')\n",
    "sAx.set_xlim(0.0, 1000.0)\n",
    "sAx.set_xlabel('Propagation time (days)')\n",
    "\n",
    "plt.show()\n",
    "#fig.savefig('../figures/' + fName + '.pdf')\n",
    "\"\"\""
   ]
  },
  {
   "cell_type": "code",
   "execution_count": null,
   "metadata": {
    "collapsed": false
   },
   "outputs": [],
   "source": [
    "# Get expected propagation time\n",
    "propTime = sum(exitData['s']) / float(len(exitData['s']))\n",
    "propTimeError = sum([(s - propTime)**2 for s in exitData['s']]) / (len(exitData['s']) - 1)\n",
    "propTimeError = np.sqrt(propTimeError / float(len(exitData['s'])))\n",
    "\n",
    "print('Expected propagation time: ' + str(propTime) + ' +/- ' + str(propTimeError) + ' days')\n",
    "print('Should be ~300 days for Ac > 0, ~180 days for Ac < 0')"
   ]
  },
  {
   "cell_type": "markdown",
   "metadata": {},
   "source": [
    "### Ignore this.  I don't get why Strauss binned the time data before computing the expected propagation time..."
   ]
  },
  {
   "cell_type": "code",
   "execution_count": null,
   "metadata": {
    "collapsed": false
   },
   "outputs": [],
   "source": [
    "# Get expected propagation time\n",
    "sCounts, sBins = np.histogram(exitData['s'], bins = np.arange(sMin, sMax, sWidth))\n",
    "# Get probabilities for each bin\n",
    "sProbs = (sCounts + 0.0) / len(exitData['s'])\n",
    "# Get bin centers\n",
    "sBins = sBins[1:]\n",
    "sBins -= sWidth / 2.0\n",
    "\n",
    "propTime = sum(t * p for t, p in zip(sBins, sProbs))\n",
    "propTimeError  = np.sqrt(1.0 / (len(exitData['s']) - 1.0) * sum((t - propTime)**2 * p for t, p in zip(sBins, sProbs)))\n",
    "\n",
    "print('Expected propagation time: ' + str(propTime) + ' +/- ' + str(propTimeError) + ' days')\n",
    "print('Should be ~300 days for Ac > 0, ~180 days for Ac < 0')"
   ]
  }
 ],
 "metadata": {
  "kernelspec": {
   "display_name": "Python 2",
   "language": "python",
   "name": "python2"
  },
  "language_info": {
   "codemirror_mode": {
    "name": "ipython",
    "version": 2
   },
   "file_extension": ".py",
   "mimetype": "text/x-python",
   "name": "python",
   "nbconvert_exporter": "python",
   "pygments_lexer": "ipython2",
   "version": "2.7.9"
  }
 },
 "nbformat": 4,
 "nbformat_minor": 0
}
