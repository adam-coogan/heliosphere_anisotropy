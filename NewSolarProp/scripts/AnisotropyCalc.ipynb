{
 "cells": [
  {
   "cell_type": "code",
   "execution_count": 159,
   "metadata": {
    "collapsed": true
   },
   "outputs": [],
   "source": [
    "import numpy as np\n",
    "import scipy\n",
    "import matplotlib.pyplot as plt\n",
    "from scipy.interpolate import interp1d"
   ]
  },
  {
   "cell_type": "code",
   "execution_count": 160,
   "metadata": {
    "collapsed": true
   },
   "outputs": [],
   "source": [
    "rundataPath = '../rundata/'"
   ]
  },
  {
   "cell_type": "markdown",
   "metadata": {},
   "source": [
    "###j_LIS from arXiv:1302.2424 [astro-ph.HE].  Valid for 1 MeV <= E <= 50 GeV."
   ]
  },
  {
   "cell_type": "code",
   "execution_count": 161,
   "metadata": {
    "collapsed": true
   },
   "outputs": [],
   "source": [
    "def jLISPotgieter(ek):\n",
    "    \"\"\"\n",
    "    Computes differential intensity for cosmic ray electrons at the heliopause.\n",
    "    ek: electron energy in GeV.  Must be between 1 MeV and 50 GeV.\n",
    "    Returns: differential intensity in m^-2 s^-1 sr^-1 MeV^-1\n",
    "    \"\"\"\n",
    "    if ek < 0.001:\n",
    "        return -1\n",
    "    elif ek > 50:\n",
    "        return -2\n",
    "    elif ek >= 0.001 and ek <= 1.0:\n",
    "        return np.exp(-2.0 - 1.511 * np.log(ek))# * 1000.0\n",
    "    elif ek > 1.0 and ek <= 10.0:\n",
    "        return (0.1349 - 6.6e-3 * ek + 15.49e-5 * ek**2) / (1 - 1.3187 * ek + 1.0810 * ek**2 + 0.2327 * ek**3)# * 1000.0\n",
    "    elif ek > 10.0:\n",
    "        return np.exp(-0.89 - 3.262 * np.log(ek))# * 1000.0"
   ]
  },
  {
   "cell_type": "markdown",
   "metadata": {},
   "source": [
    "###j_LIS from Langner et al 2001 (doi:10.1016/S0273-1177(01)00100-4)"
   ]
  },
  {
   "cell_type": "code",
   "execution_count": 162,
   "metadata": {
    "collapsed": false
   },
   "outputs": [],
   "source": [
    "#langnerPoints = np.loadtxt('../otherdata/jLIS_langner2001.csv', delimiter = ',')\n",
    "#jLISLangnerInterp = interp1d(np.log10(langnerPoints[:,0]), np.log10(langnerPoints[:,1]), kind='linear')\n",
    "\n",
    "def jLISLangner(ek):\n",
    "    \"\"\"\n",
    "    LIS parametrization from Langner 2004, with correction from Strauss' code.  ek is in GeV.\n",
    "    Returns: j_LIS in units of particles m^-2 s^-1 sr^-1 MeV^-1.\n",
    "    \"\"\"\n",
    "    P = np.sqrt(ek * (ek + 2.0 * 0.000511)) / 1.0 # P0 = 1.0 GV\n",
    "    \n",
    "    if P < 0.0026:\n",
    "        a = 126.067948848145\n",
    "        b = 0.2567973348983205\n",
    "        c = 1.95129069032843\n",
    "        d = 0.0171199701826333\n",
    "        \n",
    "        return 1.7 * (a + c * np.log(P)) / (1.0 + b * np.log(P) + d * np.log(P)**2)\n",
    "    elif P >= 0.0026 and P < 0.1:\n",
    "        return 1.7 * ((52.55 + 23.01 * P) / (1.0 + 148.62 * P))**2\n",
    "    elif P >= 0.1 and P <= 10.0:\n",
    "        return (1555.89 + 17.36 * P - 3.4e-3 * P**2 + 5.13e-7 * P**3)/(1.0 - 11.22 * P + 7532.93 * P**2 + 2405.01 * P**3 + 103.87 * P**4)\n",
    "    elif P > 10.0:\n",
    "        return 1.7 * np.exp(-0.89 - 3.22 * np.log(P))\n",
    "    #return 10.0 ** jLISLangnerInterp(np.log10(ek))"
   ]
  },
  {
   "cell_type": "code",
   "execution_count": 163,
   "metadata": {
    "collapsed": false
   },
   "outputs": [
    {
     "data": {
      "image/png": "[encoded data removed]",
      "text/plain": [
       "<matplotlib.figure.Figure at 0x1067e3890>"
      ]
     },
     "metadata": {},
     "output_type": "display_data"
    }
   ],
   "source": [
    "fig = plt.figure()\n",
    "ax = fig.add_subplot(1, 1, 1)\n",
    "#eksPotgieter = 10 ** np.linspace(np.log10(0.001), np.log10(50.0), 100) # Energies in GeV\n",
    "#ax.plot(eks, [jLISPotgieter(ek) * (ek / 1000)**2 * 1.0e-4 for ek in eksPotgieter])\n",
    "\n",
    "eksLangner = 10.0 ** np.linspace(-3.0, 1.0, 1000) # Energies in GeV\n",
    "ax.plot(eksLangner, [jLISLangner(ek) for ek in eksLangner])\n",
    "\n",
    "ax.set_xscale('log')\n",
    "ax.set_yscale('log')\n",
    "ax.set_xlim(1e-3, 1e1)\n",
    "ax.set_ylim(1e-4, 1e4)\n",
    "ax.set_ylabel(r'$j_{LIS}$ (m$^{-2}$ s$^{-1}$ sr$^{-1}$ MeV$^{-1}$)')\n",
    "ax.set_xlabel(r'Electron kinetic energy (GeV)')\n",
    "ax.set_title(r'$j_{LIS}$ at heliopause')\n",
    "\n",
    "plt.show()"
   ]
  },
  {
   "cell_type": "markdown",
   "metadata": {},
   "source": [
    "###Compute intensity at a point"
   ]
  },
  {
   "cell_type": "code",
   "execution_count": 164,
   "metadata": {
    "collapsed": false
   },
   "outputs": [
    {
     "data": {
      "text/plain": [
       "19.861705855701953"
      ]
     },
     "execution_count": 164,
     "metadata": {},
     "output_type": "execute_result"
    }
   ],
   "source": [
    "# Use j_LIS from Langner for comparison with Strauss et al\n",
    "jLIS = jLISLangner\n",
    "jLIS(1e-1)"
   ]
  },
  {
   "cell_type": "code",
   "execution_count": 165,
   "metadata": {
    "collapsed": false
   },
   "outputs": [],
   "source": [
    "def getJ(runName):\n",
    "    # Load exit points\n",
    "    rawData = np.loadtxt(rundataPath + runName + '.csv', delimiter = ',')\n",
    "    # Parse out the coordinates and energies into a list of tuples of exit points\n",
    "    exitData = [{'ee': ee, 'the': the, 'phe': phe} for ee, the, phe in zip(rawData[:,3], rawData[:,1], rawData[:,2])]\n",
    "    \n",
    "    # Get initial point.  --->>> TODO: store initial point in first line of csv!!!\n",
    "    r0 = 1.0\n",
    "    th0 = np.pi / 2.0\n",
    "    ph0 = 0.0\n",
    "    e0 = 0.1\n",
    "    initialPoint = {'r0': r0, 'th0': th0, 'ph0': ph0, 'e0': e0}\n",
    "    \n",
    "    # Average LIS at exit points\n",
    "    print([jLIS(ep['ee']) for ep in exitData][:10])\n",
    "    j = sum([jLIS(ep['ee']) for ep in exitData]) / float(len(exitData))\n",
    "    \n",
    "    return (initialPoint, j)"
   ]
  },
  {
   "cell_type": "code",
   "execution_count": 166,
   "metadata": {
    "collapsed": false
   },
   "outputs": [
    {
     "name": "stdout",
     "output_type": "stream",
     "text": [
      "[1.1535904236756929, 0.17663702827259242, 1.6530520437971079, 0.24555795375250108, 0.17175764106201333, 0.34751226533856761, 0.67518377548988218, 0.30293671422908003, 0.18124060749264889, 0.55971144744019419]\n",
      "e0 = 0.1 GeV, j(x0) = 0.511045009159 MeV^-1 s^-1 sr^-2 m^-2\n"
     ]
    }
   ],
   "source": [
    "# Get j(x0).  Should be 0.03...\n",
    "x0, j = getJ('agt0_straussconfigs_run8')\n",
    "print('e0 = ' + str(x0['e0']) + ' GeV, j(x0) = ' + str(j) + ' MeV^-1 s^-1 sr^-2 m^-2')"
   ]
  },
  {
   "cell_type": "code",
   "execution_count": 167,
   "metadata": {
    "collapsed": false
   },
   "outputs": [
    {
     "name": "stdout",
     "output_type": "stream",
     "text": [
      "[1.2292641404369922, 0.16622903591093641, 0.72483966616957174, 0.40125608155625164, 0.48786449622908984, 1.6664473022690383, 1.3091127983239979, 1.856338717266085, 0.78865885095462251, 0.71647938979108627]\n",
      "e0 = 0.1 GeV, j(x0) = 1.34869722415 MeV^-1 s^-1 sr^-2 m^-2\n"
     ]
    }
   ],
   "source": [
    "x0, j = getJ('alt0_straussconfigs_run0')\n",
    "print('e0 = ' + str(x0['e0']) + ' GeV, j(x0) = ' + str(j) + ' MeV^-1 s^-1 sr^-2 m^-2')"
   ]
  },
  {
   "cell_type": "markdown",
   "metadata": {},
   "source": [
    "###Functions to compute anisotropy Earth's position"
   ]
  },
  {
   "cell_type": "code",
   "execution_count": null,
   "metadata": {
    "collapsed": true
   },
   "outputs": [],
   "source": [
    "def getjDerivs(fName):\n",
    "    \"\"\"\n",
    "    fName: file name with trajectories measured to have desired energy at Earth.  The start point in this file defines\n",
    "           Earth's position.  The \n",
    "    Returns: numerical approximations of dj/dr, dj/dth, dj/dph, dj/dE at Earth.\n",
    "    \"\"\"\n",
    "    # Get j at Earth\n",
    "    x, j = getJ(fName)\n",
    "    # Get j at each of the points shifted spatially/spectrally from the one we care about\n",
    "    x_dr, j_dr = getJ(fName + '_dr')\n",
    "    x_dth, j_dth = getJ(fName + '_dth')\n",
    "    x_dph, j_dph = getJ(fName + '_dph')\n",
    "    x_de, j_de = getJ(fName + '_de')\n",
    "    \n",
    "    # Compute derivatives\n",
    "    dj_dr = (j_dr - j) / (x_dr['r0'] - x['r0'])\n",
    "    dj_dth = (j_dth - j) / (x_dth['th0'] - x['th0'])\n",
    "    dj_dph = (j_dph - j) / (x_dph['ph0'] - x['ph0'])\n",
    "    dj_de = (j_de - j) / (x_de['e0'] - x['e0'])\n",
    "    \n",
    "    return {\"dj_dr\": dj_dr, \"dj_dth\": dj_dth, \"dj_dph\": dj_dph, \"dj_de\": dj_de}"
   ]
  },
  {
   "cell_type": "code",
   "execution_count": null,
   "metadata": {
    "collapsed": true
   },
   "outputs": [],
   "source": [
    "def getAnisotropy(fName, createDerivFiles = False)\n",
    "    \"\"\"\n",
    "    Computes anisotropy at position specified in the provided file.  Files required for computing derivatives must\n",
    "    exist, unless createDerivFiles is True, in which case they will be created.  (See eq 1-2b in Jokipii and \n",
    "    Kopriva 1979.)\n",
    "    \"\"\"\n",
    "    # Compute components of streaming flux\n",
    "    f = {'r': 0.0, 'th': 0.0, 'ph': 0.0}\n",
    "    \n",
    "    f['r'] = k['rr']"
   ]
  }
 ],
 "metadata": {
  "kernelspec": {
   "display_name": "Python 2",
   "language": "python",
   "name": "python2"
  },
  "language_info": {
   "codemirror_mode": {
    "name": "ipython",
    "version": 2
   },
   "file_extension": ".py",
   "mimetype": "text/x-python",
   "name": "python",
   "nbconvert_exporter": "python",
   "pygments_lexer": "ipython2",
   "version": "2.7.9"
  }
 },
 "nbformat": 4,
 "nbformat_minor": 0
}
