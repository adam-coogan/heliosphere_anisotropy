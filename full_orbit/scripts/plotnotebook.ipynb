{
 "cells": [
  {
   "cell_type": "code",
   "execution_count": 1,
   "metadata": {
    "collapsed": false
   },
   "outputs": [
    {
     "name": "stdout",
     "output_type": "stream",
     "text": [
      "100000000 loops, best of 3: 17.6 ns per loop\n"
     ]
    }
   ],
   "source": [
    "%timeit 1+1"
   ]
  },
  {
   "cell_type": "code",
   "execution_count": 9,
   "metadata": {
    "collapsed": false
   },
   "outputs": [],
   "source": [
    "%matplotlib inline"
   ]
  },
  {
   "cell_type": "code",
   "execution_count": 10,
   "metadata": {
    "collapsed": false
   },
   "outputs": [],
   "source": [
    "import matplotlib.pyplot as plt"
   ]
  },
  {
   "cell_type": "code",
   "execution_count": 14,
   "metadata": {
    "collapsed": false
   },
   "outputs": [],
   "source": [
    "import mc_plotter"
   ]
  },
  {
   "cell_type": "code",
   "execution_count": 17,
   "metadata": {
    "collapsed": false
   },
   "outputs": [
    {
     "name": "stdout",
     "output_type": "stream",
     "text": [
      "p = 162.5 GeV, theta_dev = 21.4889629089\n",
      "p = 189.75 GeV, theta_dev = 17.6763479182\n",
      "p = 32.95 GeV, theta_dev = 71.8894484617\n",
      "p = 11.965 GeV, theta_dev = 97.1204678179\n",
      "p = 19.955 GeV, theta_dev = 81.4599327419\n",
      "p = 89.25 GeV, theta_dev = 35.2081011453\n",
      "p = 66.515 GeV, theta_dev = 46.7755631361\n",
      "p = 41.695 GeV, theta_dev = 63.9001123499\n",
      "p = 25.16 GeV, theta_dev = 78.387143087\n",
      "p = 16.665 GeV, theta_dev = 98.6178609241\n",
      "p = 96.25 GeV, theta_dev = 35.4490267709\n",
      "p = 123.6 GeV, theta_dev = 26.8861977672\n",
      "p = 21.15 GeV, theta_dev = 80.3150470433\n",
      "p = 26.605 GeV, theta_dev = 76.3400065619\n",
      "p = 31.275 GeV, theta_dev = 73.0554562323\n",
      "p = 18.81 GeV, theta_dev = 84.2864179649\n",
      "p = 38.7 GeV, theta_dev = 67.5005036192\n",
      "p = 425.0 GeV, theta_dev = 8.3661697077\n",
      "p = 48.94 GeV, theta_dev = 59.1738406733\n",
      "p = 305.0 GeV, theta_dev = 11.3244007854\n",
      "p = 15.65 GeV, theta_dev = 98.6351847729\n",
      "p = 28.105 GeV, theta_dev = 76.019873745\n",
      "p = 12.83 GeV, theta_dev = 97.4735530305\n",
      "p = 14.67 GeV, theta_dev = 94.2598615258\n",
      "p = 22.415 GeV, theta_dev = 81.0703906374\n",
      "p = 107.55 GeV, theta_dev = 29.1588291051\n",
      "p = 77.15 GeV, theta_dev = 42.5643897449\n",
      "p = 34.685 GeV, theta_dev = 71.6333609588\n",
      "p = 83.0 GeV, theta_dev = 40.8453910679\n",
      "p = 13.73 GeV, theta_dev = 96.0441249343\n",
      "p = 11.135 GeV, theta_dev = 90.9649744417\n",
      "p = 71.65 GeV, theta_dev = 42.7830994838\n",
      "p = 45.2 GeV, theta_dev = 61.8598967923\n",
      "p = 141.8 GeV, theta_dev = 23.3035542684\n",
      "p = 233.0 GeV, theta_dev = 14.5715526494\n",
      "p = 36.485 GeV, theta_dev = 68.5291493415\n",
      "p = 57.17 GeV, theta_dev = 52.9660907845\n",
      "p = 23.76 GeV, theta_dev = 80.9614055391\n",
      "p = 52.925 GeV, theta_dev = 56.2708588943\n",
      "p = 17.715 GeV, theta_dev = 90.8388533045\n",
      "p = 61.695 GeV, theta_dev = 47.9408023216\n",
      "p = 29.66 GeV, theta_dev = 75.1567710139\n"
     ]
    },
    {
     "data": {
      "image/png": "[encoded data removed]",
      "text/plain": [
       "<matplotlib.figure.Figure at 0x10c133cd0>"
      ]
     },
     "metadata": {},
     "output_type": "display_data"
    }
   ],
   "source": [
    "samplepath = 'mc_data/'\n",
    "samples = mc_plotter.getdata(samplepath)\n",
    "mc_plotter.plotavgdev(samples)"
   ]
  },
  {
   "cell_type": "code",
   "execution_count": null,
   "metadata": {
    "collapsed": true
   },
   "outputs": [],
   "source": []
  }
 ],
 "metadata": {
  "kernelspec": {
   "display_name": "Python 2",
   "language": "python",
   "name": "python2"
  },
  "language_info": {
   "codemirror_mode": {
    "name": "ipython",
    "version": 2
   },
   "file_extension": ".py",
   "mimetype": "text/x-python",
   "name": "python",
   "nbconvert_exporter": "python",
   "pygments_lexer": "ipython2",
   "version": "2.7.5"
  }
 },
 "nbformat": 4,
 "nbformat_minor": 0
}
