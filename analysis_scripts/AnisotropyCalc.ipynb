{
 "cells": [
  {
   "cell_type": "code",
   "execution_count": 42,
   "metadata": {
    "collapsed": true
   },
   "outputs": [],
   "source": [
    "import numpy as np\n",
    "import scipy\n",
    "import matplotlib.pyplot as plt\n",
    "from scipy.interpolate import interp1d\n",
    "import subprocess\n",
    "import os.path\n",
    "from os import listdir\n",
    "from os.path import isfile, join"
   ]
  },
  {
   "cell_type": "code",
   "execution_count": 34,
   "metadata": {
    "collapsed": false
   },
   "outputs": [],
   "source": [
    "rundataPath = '../rundata/'\n",
    "generatorDir = '../bin/'\n",
    "generator = 'StraussUnits'"
   ]
  },
  {
   "cell_type": "code",
   "execution_count": 6,
   "metadata": {
    "collapsed": false
   },
   "outputs": [],
   "source": [
    "# Solar cycle polarity\n",
    "Ac = -1\n",
    "# Magnetic field\n",
    "rRefB = 1.0\n",
    "rSun = 0.005 # AU\n",
    "B0 = 5e-9 / np.sqrt(1 + (rRefB - rSun)**2) * 4.485e10 # GV / AU\n",
    "Omega = 2.0 * np.pi / (25.4 * 24.0 * 3600.0) # rad / s\n",
    "Vsw = 400 * 6.685e-9 # AU / s\n",
    "# Electron mass\n",
    "me = 0.000511\n",
    "qe = -1\n",
    "# Diffusion parameters\n",
    "lambda0 = 0.15 # AU\n",
    "kperp_kpar = 0.01"
   ]
  },
  {
   "cell_type": "code",
   "execution_count": 7,
   "metadata": {
    "collapsed": true
   },
   "outputs": [],
   "source": [
    "def momentum(ek):\n",
    "    return np.sqrt(ek * (ek + 2.0 * me)) # GeV"
   ]
  },
  {
   "cell_type": "code",
   "execution_count": 8,
   "metadata": {
    "collapsed": true
   },
   "outputs": [],
   "source": [
    "def velocity(ek):\n",
    "    return 0.002 * np.sqrt(ek * (ek + 2.0 * me)) / (ek + me) # AU / s"
   ]
  },
  {
   "cell_type": "code",
   "execution_count": 9,
   "metadata": {
    "collapsed": true
   },
   "outputs": [],
   "source": [
    "def rigidity(ek):\n",
    "    return np.sqrt(ek * (ek + 2.0 * me)) # GV"
   ]
  },
  {
   "cell_type": "code",
   "execution_count": 10,
   "metadata": {
    "collapsed": true
   },
   "outputs": [],
   "source": [
    "def getB(r, th, ph):    \n",
    "    bFact = Ac * B0 * (rRefB / r)**2\n",
    "    \n",
    "    return {bFact, 0.0, -bFact * (r - rSun) * Omega / Vsw * np.sin(th)}"
   ]
  },
  {
   "cell_type": "code",
   "execution_count": 11,
   "metadata": {
    "collapsed": true
   },
   "outputs": [],
   "source": [
    "def getK(r, th, ph, ek):\n",
    "    # Diffusion tensor\n",
    "    k = {'rr': 0.0, 'thth': 0.0, 'phph': 0.0, 'rth': 0.0, 'rph': 0.0, 'thr': 0.0, 'thph': 0.0, 'phr': 0.0, 'phth': 0.0}\n",
    "    \n",
    "    # Set up convenience variables\n",
    "    p = momentum(ek)\n",
    "    v = velocity(ek)\n",
    "    B = getB(r, th, ph, -1)\n",
    "    \n",
    "    # Asymmetric part of k in spherical coordinates\n",
    "    kAFact = p * v / (3 * qe * (B['r']**2 + B['ph']**2))\n",
    "    k['rth'] = kAFact * B['ph']\n",
    "    k['thr'] = -kAFact * B['ph']\n",
    "    k['thph'] = kAFact * B['r']\n",
    "    k['phth'] = -kAFact * B['r']\n",
    "\n",
    "    # Symmetric part of k\n",
    "    kpar = v / 3 * lambda0 * (1 + r / rRefLambda)\n",
    "    if p > p0:\n",
    "        kpar = kpar * p / p0\n",
    "    kperp = kperp_kpar * kpar\n",
    "    \n",
    "    # Convert symmetric part to spherical coordinates\n",
    "    tanPsi = Omega * (r - rSun) * np.sin(th) / Vsw\n",
    "    cosPsi = 1 / np.sqrt(1 + tanPsi**2)\n",
    "    sinPsi = np.sqrt(1 - cosPsi**2)\n",
    "    \n",
    "    k['rr'] = kpar * cosPsi**2 + kperp * sinPsi**2\n",
    "    k['phph'] = kpar * sinPsi**2 + kperp * cosPsi**2\n",
    "    k['thth'] = kperp\n",
    "    k['rph'] = k['rph'] + (kperp - kpar) * cosPsi * sinPsi\n",
    "    k['phr'] = k['phr'] + (kperp - kpar) * cosPsi * sinPsi\n",
    "    \n",
    "    return k"
   ]
  },
  {
   "cell_type": "markdown",
   "metadata": {},
   "source": [
    "###j_LIS from arXiv:1302.2424 [astro-ph.HE].  Valid for 1 MeV <= E <= 50 GeV."
   ]
  },
  {
   "cell_type": "code",
   "execution_count": 12,
   "metadata": {
    "collapsed": true
   },
   "outputs": [],
   "source": [
    "def jLISPotgieter(ek):\n",
    "    \"\"\"\n",
    "    Computes differential intensity for cosmic ray electrons at the heliopause.\n",
    "    ek: electron energy in GeV.  Must be between 1 MeV and 50 GeV.\n",
    "    Returns: differential intensity in m^-2 s^-1 sr^-1 MeV^-1\n",
    "    \"\"\"\n",
    "    if ek < 0.001:\n",
    "        return -1\n",
    "    elif ek > 50:\n",
    "        return -2\n",
    "    elif ek >= 0.001 and ek <= 1.0:\n",
    "        return np.exp(-2.0 - 1.511 * np.log(ek))\n",
    "    elif ek > 1.0 and ek <= 10.0:\n",
    "        return (0.1349 - 6.6e-3 * ek + 15.49e-5 * ek**2) / (1 - 1.3187 * ek + 1.0810 * ek**2 + 0.2327 * ek**3)\n",
    "    elif ek > 10.0:\n",
    "        return np.exp(-0.89 - 3.262 * np.log(ek))"
   ]
  },
  {
   "cell_type": "markdown",
   "metadata": {},
   "source": [
    "###j_LIS from Langner et al 2001 (doi:10.1016/S0273-1177(01)00100-4)"
   ]
  },
  {
   "cell_type": "code",
   "execution_count": 13,
   "metadata": {
    "collapsed": false
   },
   "outputs": [],
   "source": [
    "def jLISLangner(ek):\n",
    "    \"\"\"\n",
    "    LIS parametrization from Langner 2004, with correction from Strauss' code.  ek is in GeV.\n",
    "    Returns: j_LIS in units of particles m^-2 s^-1 sr^-1 MeV^-1.\n",
    "    \"\"\"\n",
    "    P = rigidity(ek) / 1.0 # P0 = 1.0 GV\n",
    "    \n",
    "    if P < 0.0026:\n",
    "        a = 126.067948848145\n",
    "        b = 0.2567973348983205\n",
    "        c = 1.95129069032843\n",
    "        d = 0.0171199701826333\n",
    "        \n",
    "        return 1.7 * (a + c * np.log(P)) / (1.0 + b * np.log(P) + d * np.log(P)**2)\n",
    "    elif P >= 0.0026 and P < 0.1:\n",
    "        return 1.7 * ((52.55 + 23.01 * P) / (1.0 + 148.62 * P))**2\n",
    "    elif P >= 0.1 and P <= 10.0:\n",
    "        return (1555.89 + 17.36 * P - 3.4e-3 * P**2 + 5.13e-7 * P**3)/(1.0 - 11.22 * P + 7532.93 * P**2 + 2405.01 * P**3 + 103.87 * P**4)\n",
    "    elif P > 10.0:\n",
    "        return 1.7 * np.exp(-0.89 - 3.22 * np.log(P))"
   ]
  },
  {
   "cell_type": "code",
   "execution_count": 14,
   "metadata": {
    "collapsed": false
   },
   "outputs": [
    {
     "data": {
      "image/png": "[encoded data removed]",
      "text/plain": [
       "<matplotlib.figure.Figure at 0x10a205950>"
      ]
     },
     "metadata": {},
     "output_type": "display_data"
    }
   ],
   "source": [
    "fig = plt.figure()\n",
    "ax = fig.add_subplot(1, 1, 1)\n",
    "#eksPotgieter = 10 ** np.linspace(np.log10(0.001), np.log10(50.0), 100) # Energies in GeV\n",
    "#ax.plot(eks, [jLISPotgieter(ek) * (ek / 1000)**2 * 1.0e-4 for ek in eksPotgieter])\n",
    "\n",
    "eksLangner = 10.0 ** np.linspace(-4.0, 1.0, 1000) # Energies in GeV\n",
    "ax.plot(eksLangner, [jLISLangner(ek) for ek in eksLangner])\n",
    "ax.plot(eksLangner, [jLISPotgieter(ek) for ek in eksLangner])\n",
    "\n",
    "ax.set_xscale('log')\n",
    "ax.set_yscale('log')\n",
    "ax.set_xlim(1e-3, 1e1)\n",
    "ax.set_ylim(1e-4, 1e4)\n",
    "ax.set_ylabel(r'$j_{LIS}$ (m$^{-2}$ s$^{-1}$ sr$^{-1}$ MeV$^{-1}$)')\n",
    "ax.set_xlabel(r'Electron kinetic energy (GeV)')\n",
    "ax.set_title(r'$j_{LIS}$ at heliopause')\n",
    "\n",
    "plt.show()"
   ]
  },
  {
   "cell_type": "markdown",
   "metadata": {},
   "source": [
    "###Compute intensity at a point"
   ]
  },
  {
   "cell_type": "code",
   "execution_count": 15,
   "metadata": {
    "collapsed": false
   },
   "outputs": [],
   "source": [
    "def getJ(runName):\n",
    "    \"\"\"\n",
    "    Performs MC integration to find the differential intensity at earth for a given run.\n",
    "    runName: csv containing trajectory exit points.\n",
    "    Returns:\n",
    "        intitialPoint: the point at which the cosmic rays were observed and their energy.\n",
    "        j: the differential intensity at that point and energy.\n",
    "        sigma: the error on j.\n",
    "    \"\"\"\n",
    "    # Load exit points\n",
    "    rawData = np.loadtxt(rundataPath + runName + '.csv', delimiter = ',')\n",
    "    # Parse out the coordinates and energies into a list of tuples of exit points\n",
    "    exitData = [{'ee': ee, 'the': the, 'phe': phe} for ee, the, phe in zip(rawData[:,3], rawData[:,1], rawData[:,2])]\n",
    "    \n",
    "    # Get initial point.  --->>> TODO: store initial point in first line of csv!!!\n",
    "    r0 = 1.0\n",
    "    th0 = np.pi / 2.0\n",
    "    ph0 = 0.0\n",
    "    e0 = 0.1\n",
    "    initialPoint = {'r0': r0, 'th0': th0, 'ph0': ph0, 'e0': e0}\n",
    "    \n",
    "    # Average LIS at exit points\n",
    "    #print([jLIS(ep['ee']) for ep in exitData][:10])\n",
    "    jN = sum([jLISLangner(ep['ee']) / rigidity(ep['ee'])**2 for ep in exitData]) / float(len(exitData)) * rigidity(e0)**2\n",
    "    \n",
    "    # Compute error\n",
    "    varjN = sum([(jLISLangner(ep['ee']) * (rigidity(e0) / rigidity(ep['ee']))**2 - jN)**2 for ep in exitData])\n",
    "    varjN = varjN * 1.0 / (len(exitData) - 1.0)\n",
    "    \n",
    "    return (initialPoint, jN, np.sqrt(varjN / len(exitData)))"
   ]
  },
  {
   "cell_type": "code",
   "execution_count": 16,
   "metadata": {
    "collapsed": false
   },
   "outputs": [
    {
     "name": "stdout",
     "output_type": "stream",
     "text": [
      "e0 = 0.1 GeV, j(x0) = 0.121144599246 +/- 0.00178845104754 MeV^-1 s^-1 sr^-2 m^-2\n",
      "e0 = 0.1 GeV, j(x0) = 0.0305332190789 +/- 0.00190744092167 MeV^-1 s^-1 sr^-2 m^-2\n"
     ]
    }
   ],
   "source": [
    "x0, j, sigma = getJ('straussunits_alt0_run5')\n",
    "print('e0 = ' + str(x0['e0']) + ' GeV, j(x0) = ' + str(j) + ' +/- ' + str(sigma) + ' MeV^-1 s^-1 sr^-2 m^-2')\n",
    "\n",
    "x0, j, sigma = getJ('straussunits_agt0_run0')\n",
    "print('e0 = ' + str(x0['e0']) + ' GeV, j(x0) = ' + str(j) + ' +/- ' + str(sigma) + ' MeV^-1 s^-1 sr^-2 m^-2')"
   ]
  },
  {
   "cell_type": "code",
   "execution_count": 17,
   "metadata": {
    "collapsed": false
   },
   "outputs": [
    {
     "name": "stdout",
     "output_type": "stream",
     "text": [
      "e0 = 0.1 GeV, j(x0) = 0.117378917067 +/- 0.00172594595069 MeV^-1 s^-1 sr^-2 m^-2\n"
     ]
    }
   ],
   "source": [
    "x0, j, sigma = getJ('strauss_run5')\n",
    "print('e0 = ' + str(x0['e0']) + ' GeV, j(x0) = ' + str(j) + ' +/- ' + str(sigma) + ' MeV^-1 s^-1 sr^-2 m^-2')"
   ]
  },
  {
   "cell_type": "code",
   "execution_count": 51,
   "metadata": {
    "collapsed": true
   },
   "outputs": [],
   "source": [
    "# Build the spectrum at earth\n",
    "energies = [os.path.splitext(f)[0] for f in listdir(rundataPath + 'alt0_spectrum/') if isfile(join(rundataPath + 'alt0_spectrum/', f))]\n",
    "\n",
    "e0s = [float(e) for e in energies]\n",
    "js = [getJ('alt0_spectrum/' + e)[1] for e in energies]\n",
    "sigmas = [getJ('alt0_spectrum/' + e)[2] for e in energies]"
   ]
  },
  {
   "cell_type": "code",
   "execution_count": 52,
   "metadata": {
    "collapsed": false
   },
   "outputs": [
    {
     "data": {
      "text/plain": [
       "(0.0001, 10000.0)"
      ]
     },
     "execution_count": 52,
     "metadata": {},
     "output_type": "execute_result"
    },
    {
     "data": {
      "image/png": "[encoded data removed]",
      "text/plain": [
       "<matplotlib.figure.Figure at 0x10ae68d10>"
      ]
     },
     "metadata": {},
     "output_type": "display_data"
    }
   ],
   "source": [
    "fig = plt.figure()\n",
    "ax = fig.add_subplot(1, 1, 1)\n",
    "\n",
    "ax.plot(e0s, js, '.')\n",
    "\n",
    "eksLangner = 10.0 ** np.linspace(-3.0, 2.0, 1000) # Energies in GeV\n",
    "ax.plot(eksLangner, [jLISLangner(ek) for ek in eksLangner])\n",
    "\n",
    "ax.set_xscale('log')\n",
    "ax.set_yscale('log')\n",
    "ax.set_xlim(1e-3, 1e1)\n",
    "ax.set_ylim(1e-4, 1e4)"
   ]
  },
  {
   "cell_type": "markdown",
   "metadata": {},
   "source": [
    "###Functions to compute anisotropy Earth's position"
   ]
  },
  {
   "cell_type": "code",
   "execution_count": 28,
   "metadata": {
    "collapsed": false
   },
   "outputs": [],
   "source": [
    "def generateRuns(fName, dirName, e0, n, dr, dth, dph, de):\n",
    "    \"\"\"\n",
    "    Generates files needed to take derivatives of j.\n",
    "    e0: energy the electron was observed to have at Earth.\n",
    "    n: number of runs to generate for each file.\n",
    "    dr, dth, dph, de: step sizes to use for taking the derivatives.\n",
    "    fName: base file name.\n",
    "    dirName: base directory in which to store runs.  Must be an existing subdirectory of rundataPath.\n",
    "    TODO: THREAD THIS.\n",
    "    \"\"\"\n",
    "    baseName = dirName + '/' + fName\n",
    "    \n",
    "    # Check whether files exists before generating them\n",
    "    if not os.path.isfile(rundataPath + baseName + '.csv'):\n",
    "        subprocess.call([generatorDir + generator, str(e0), str(n), baseName])"
   ]
  },
  {
   "cell_type": "code",
   "execution_count": 19,
   "metadata": {
    "collapsed": true
   },
   "outputs": [],
   "source": [
    "def getjDerivs(fName, dirName):\n",
    "    \"\"\"\n",
    "    fName: file name with trajectories measured to have desired energy at Earth.  The start point in this file defines\n",
    "           Earth's position.  The \n",
    "    Returns: numerical approximations of dj/dr, dj/dth, dj/dph, dj/dT at Earth.  Also gives x, the Earth point.\n",
    "    \"\"\"\n",
    "    # Get j at Earth\n",
    "    xEarth, jEarth = getJ(dirName + '/' + fName)\n",
    "    # Get j at each of the points shifted spatially/spectrally from the one we care about\n",
    "    x_dr, j_dr = getJ(dirName + '/' + fName + '_dr')\n",
    "    x_dth, j_dth = getJ(dirName + '/' + fName + '_dth')\n",
    "    x_dph, j_dph = getJ(dirName + '/' + fName + '_dph')\n",
    "    x_de, j_de = getJ(dirName + '/' + fName + '_de')\n",
    "    \n",
    "    # Compute derivatives\n",
    "    dj_dr = (j_dr - jEarth) / (x_dr['r0'] - xEarth['r0'])\n",
    "    dj_dth = (j_dth - jEarth) / (x_dth['th0'] - xEarth['th0'])\n",
    "    dj_dph = (j_dph - jEarth) / (x_dph['ph0'] - xEarth['ph0'])\n",
    "    dj_de = (j_de - jEarth) / (x_de['e0'] - xEarth['e0'])\n",
    "    \n",
    "    return (xEarth, jEarth, {\"dj_dr\": dj_dr, \"dj_dth\": dj_dth, \"dj_dph\": dj_dph, \"dj_de\": dj_de})"
   ]
  },
  {
   "cell_type": "code",
   "execution_count": 22,
   "metadata": {
    "collapsed": false
   },
   "outputs": [],
   "source": [
    "def getAnisotropy(fName):\n",
    "    \"\"\"\n",
    "    Computes anisotropy at position specified in the provided file.  Files required for computing derivatives must\n",
    "    exist.  (See eq 1-2b in Jokipii and Kopriva 1979.)\n",
    "    \"\"\"\n",
    "    # Set up convenience variables\n",
    "    xEarth, jEarth, dj = getjDerivs(fName)\n",
    "    e0 = xEarth['ek']\n",
    "    k = getK(xEarth['r0'], xEarth['th'], xEarth['ph'], e0)\n",
    "    \n",
    "    # Streaming flux\n",
    "    sfFact = 4.0 * np.pi / velocity(e0)\n",
    "    sf = {'r': sfFact, 'th': sfFact, 'ph': sfFact}\n",
    "    \n",
    "    # Angular components\n",
    "    sf['th'] = -sf['th'] * (k['thr'] * dj['dj_dr'] + k['thth'] * dj['dj_dth'] + k['thph'] * dj['dj_dph'])    \n",
    "    sf['ph'] = -sf['ph'] * (k['phr'] * dj['dj_dr'] + k['phth'] * dj['dj_dth'] + k['phph'] * dj['dj_dph'])\n",
    "    \n",
    "    # r component has solar wind contribution\n",
    "    sf['r'] = sf['r'] * (-k['rr'] * dj['dj_dr'] - k['rth'] * dj['dj_dth'] - k['rph'] * dj['dj_dph']\n",
    "                        + Vsw * (jEarth - 1.0 / (3.0 * velocity(e0))\n",
    "                                 * (jEarth * (1 + me**2 / (me + e0)**2)\n",
    "                                    + e0 * (e0 + 2 * me) / (e0 + me)\n",
    "                                        * (dj['dj_de'] - jEarth / velocity(e0) * me**2 / (velocity(e0) * (me + e0)**3)))))\n",
    "    delta = {'r': 3.0 / (4.0 * np.pi * jEarth) * sf['r'],\n",
    "             'th': 3.0 / (4.0 * np.pi * jEarth) * sf['th'],\n",
    "             'ph': 3.0 / (4.0 * np.pi * jEarth) * sf['ph']}"
   ]
  },
  {
   "cell_type": "code",
   "execution_count": 29,
   "metadata": {
    "collapsed": false
   },
   "outputs": [],
   "source": [
    "generateRuns('alt0_100MeV_run0', 'anisotropyTest0', 0.1, 50000, 0, 0, 0, 0)"
   ]
  },
  {
   "cell_type": "code",
   "execution_count": 30,
   "metadata": {
    "collapsed": false
   },
   "outputs": [],
   "source": [
    "generateRuns('alt0_100MeV_run1', 'anisotropyTest0', 0.1, 50000, 0, 0, 0, 0)"
   ]
  },
  {
   "cell_type": "code",
   "execution_count": 31,
   "metadata": {
    "collapsed": true
   },
   "outputs": [],
   "source": [
    "generateRuns('alt0_100MeV_run2', 'anisotropyTest0', 0.1, 50000, 0, 0, 0, 0)"
   ]
  },
  {
   "cell_type": "code",
   "execution_count": null,
   "metadata": {
    "collapsed": true
   },
   "outputs": [],
   "source": []
  }
 ],
 "metadata": {
  "kernelspec": {
   "display_name": "Python 2",
   "language": "python",
   "name": "python2"
  },
  "language_info": {
   "codemirror_mode": {
    "name": "ipython",
    "version": 2
   },
   "file_extension": ".py",
   "mimetype": "text/x-python",
   "name": "python",
   "nbconvert_exporter": "python",
   "pygments_lexer": "ipython2",
   "version": "2.7.9"
  }
 },
 "nbformat": 4,
 "nbformat_minor": 0
}
